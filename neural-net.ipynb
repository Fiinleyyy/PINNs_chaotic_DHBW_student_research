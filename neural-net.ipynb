{
 "cells": [
  {
   "cell_type": "markdown",
   "metadata": {},
   "source": [
    "## Mathematische Grundlagen eines Neuronalen Netzes\n",
    "Nachfolgender Programmcode dient dazu die mathematischen Grundlagen eines Neuronalen Netzes zu veranschaulichen. \n",
    "Hierzu wird ein Neuronalen Netz ohne zusätzliche Bibliotheken - mit Ausnahme von numpy zur Berechnung von Matrixoperationen - implementiert. \n",
    "Das nachfolgend implementiert Neuronale Netz verwendet die Sigmoid Aktivierungfunktion und berechnet den Gradienten der Kostenfunktion mithilfe des Backpropagation Algorithmus."
   ]
  },
  {
   "cell_type": "code",
   "execution_count": 672,
   "metadata": {},
   "outputs": [],
   "source": [
    "import numpy as np\n",
    "import matplotlib.pyplot as plt"
   ]
  },
  {
   "cell_type": "code",
   "execution_count": 673,
   "metadata": {},
   "outputs": [],
   "source": [
    "class NeuralNetwork():\n",
    "\n",
    "    def __init__(self, layers: list[int]):\n",
    "        self.weights = []\n",
    "        self.biases = []\n",
    "        self.layers = layers\n",
    "        for i, layer in enumerate(layers):\n",
    "            if i+1 != len(layers):\n",
    "                # Xavier initialization for tanh\n",
    "                limit = np.sqrt(6 / (layer + layers[i+1]))\n",
    "                self.weights.append(np.random.uniform(-limit, limit, (layers[i+1], layer)))\n",
    "                self.biases.append(np.zeros((layers[i+1], 1)))\n",
    "\n",
    "    def set_random_parameters(self):\n",
    "        self.weights = []\n",
    "        self.biases = []\n",
    "        for i, layer in enumerate(self.layers):\n",
    "            if i+1 != len(self.layers):\n",
    "                limit = np.sqrt(6 / (layer + self.layers[i+1]))\n",
    "                self.weights.append(np.random.uniform(-limit, limit, (self.layers[i+1], layer)))\n",
    "                self.biases.append(np.zeros((self.layers[i+1], 1)))\n",
    "\n",
    "    def set_test_parameters(self, test_weights, test_biases):\n",
    "        self.weights = []\n",
    "        self.biases = []\n",
    "        for weight_matrix in test_weights:\n",
    "            self.weights.append(weight_matrix)\n",
    "        for bias_vector in test_biases:\n",
    "            self.biases.append(bias_vector)\n",
    "\n",
    "    def train(self, X, Y, eta, epochs, test_X, test_Y, tolerance=1e-6):\n",
    "        prev_mse = float('inf')  # Initialisiere vorherigen Fehler mit unendlich\n",
    "        for i in range(epochs):\n",
    "            self.gradient_descent(X, Y, eta)\n",
    "            if i % 2000 == 0: # Print every 2000 epochs\n",
    "                mse = self.evaluate(test_X, test_Y)\n",
    "                print(f\"Epoche {i} von {epochs}: MSE {mse}\")\n",
    "                \n",
    "                # Abbruchbedingung: Überprüfe, ob die Änderung des Fehlers kleiner als die Toleranz ist\n",
    "                if abs(prev_mse - mse) < tolerance:\n",
    "                    print(f\"Training beendet bei Epoche {i}, da die Änderung des Fehlers kleiner als {tolerance} ist.\")\n",
    "                    break\n",
    "                \n",
    "                prev_mse = mse  # Aktualisiere den vorherigen Fehler\n",
    "\n",
    "    def evaluate(self, test_X, test_Y):\n",
    "        N = len(test_X)\n",
    "        error = 0\n",
    "        for test_x, test_y in zip(test_X, test_Y):\n",
    "            a, z = self.propagate_forward(a_0=test_x)\n",
    "            y_pred = a[-1].item()\n",
    "            error += (y_pred - test_y)**2\n",
    "        mse = (1/N) * error\n",
    "        return mse\n",
    "\n",
    "\n",
    "    def gradient_descent(self, X, Y, eta):\n",
    "        gradient_weights_sum = [np.zeros(weight_matrix.shape) for weight_matrix in self.weights]\n",
    "        gradient_biases_sum = [np.zeros(bias_vectors.shape) for bias_vectors in self.biases]\n",
    "        N = len(X)\n",
    "        for x, y in zip(X, Y):\n",
    "            a, z = self.propagate_forward(a_0=x)\n",
    "            gradient_weights, gradient_biases, partials_a = self.propagate_backwards(a, z, y)\n",
    "            gradient_weights_sum = [dC_dW + dC_dW_sum for dC_dW, dC_dW_sum in zip(gradient_weights, gradient_weights_sum)]\n",
    "            gradient_biases_sum = [dC_dB + dC_dB_sum for dC_dB, dC_dB_sum in zip(gradient_biases, gradient_biases_sum)]\n",
    "\n",
    "        gradient_weights_average = [(1/N) * dC_dW_sum for dC_dW_sum in gradient_weights_sum]\n",
    "        gradient_biases_average = [(1/N) * dC_dB_sum for dC_dB_sum in gradient_biases_sum]\n",
    "\n",
    "        updated_weights = []\n",
    "        for old_weight_matrix, dC_dW_average in zip(self.weights, gradient_weights_average):\n",
    "            updated_weight_matrix = old_weight_matrix - (eta * dC_dW_average)\n",
    "            updated_weights.append(updated_weight_matrix)\n",
    "        self.weights = updated_weights\n",
    "\n",
    "        updated_biases = []\n",
    "        for old_bias_vector, dC_dB_average in zip(self.biases, gradient_biases_average):\n",
    "            updated_bias_vector = old_bias_vector - (eta * dC_dB_average)\n",
    "            updated_biases.append(updated_bias_vector)\n",
    "        self.biases = updated_biases\n",
    "\n",
    "        return (updated_weights, updated_biases)\n",
    "\n",
    "\n",
    "    def propagate_forward(self, a_0):\n",
    "        a = a_0\n",
    "        a_list = [a]\n",
    "        z_list = [a]\n",
    "        for weights, bias in zip(self.weights, self.biases):\n",
    "            z_next = np.matmul(weights, a) + bias\n",
    "            z_list.append(z_next)\n",
    "            a_next = self.tanh(z_next)\n",
    "            a_list.append(a_next)\n",
    "            a = a_next\n",
    "        return (a_list, z_list)\n",
    "\n",
    "    def propagate_backwards(self, a, z, y):\n",
    "        gradient_weights = [np.zeros(weight_matrix.shape) for weight_matrix in self.weights]\n",
    "        gradient_biases = [np.zeros(bias_vector.shape) for bias_vector in self.biases]\n",
    "        partials_a = [np.zeros(activation_vector.shape) for activation_vector in a]\n",
    "        L = len(self.layers) - 1\n",
    "        dC_da = self.partial_dC_da(a[L], y)\n",
    "        v = dC_da * self.partial_da_dz(z[L])\n",
    "        partials_a[L] = dC_da\n",
    "        for i in range(L, 0, -1):\n",
    "            dC_dW = np.matmul(v, a[i-1].transpose())\n",
    "            dC_dB = v\n",
    "            gradient_weights[i-1] = dC_dW\n",
    "            gradient_biases[i-1] = dC_dB\n",
    "            dC_da_previous = np.matmul(self.weights[i-1].transpose(), v)\n",
    "            v = dC_da_previous * self.partial_da_dz(z[i-1])\n",
    "            partials_a[i-1] = dC_da_previous\n",
    "        return (gradient_weights, gradient_biases, partials_a)\n",
    "\n",
    "    def partial_dC_da(self, a, y):\n",
    "        dC_da = 2 * (a - y)\n",
    "        return dC_da\n",
    "\n",
    "    def partial_da_dz(self, z):\n",
    "        # Derivative of tanh\n",
    "        return 1 - np.tanh(z)**2\n",
    "\n",
    "    def tanh(self, x):\n",
    "        return np.tanh(x)"
   ]
  },
  {
   "cell_type": "code",
   "execution_count": 674,
   "metadata": {},
   "outputs": [],
   "source": [
    "# Manuelle Belegung des Neuronalen Netzes\n",
    "W_1 = np.array([\n",
    "    [1, 2],\n",
    "    [-1, 0],\n",
    "    [2, -1]\n",
    "])\n",
    "W_2 = np.array([\n",
    "    [1, 1, 0],\n",
    "    [-1, 2, 1],\n",
    "    [0, -1, 1]\n",
    "])\n",
    "W_3 = np.array([\n",
    "    [0, 1, -2],\n",
    "    [1, 0, 1]\n",
    "])\n",
    "B_1 = np.array([0, -1, 1]).reshape(3, 1)\n",
    "B_2 = np.array([1, -1, -2]).reshape(3, 1)\n",
    "B_3 = np.array([-1, 2]).reshape(2, 1)\n",
    "test_weights = [W_1, W_2, W_3]\n",
    "test_biases = [B_1, B_2, B_3]\n",
    "test_y = np.array([-20, 10]).reshape(2, 1)\n",
    "test_sigmoid_z = np.array([0, 0, 0]).reshape(3, 1)"
   ]
  },
  {
   "cell_type": "code",
   "execution_count": 675,
   "metadata": {},
   "outputs": [
    {
     "data": {
      "text/plain": [
       "[array([[ 0],\n",
       "        [-1],\n",
       "        [ 1]]),\n",
       " array([[ 1],\n",
       "        [-1],\n",
       "        [-2]]),\n",
       " array([[-1],\n",
       "        [ 2]])]"
      ]
     },
     "execution_count": 675,
     "metadata": {},
     "output_type": "execute_result"
    }
   ],
   "source": [
    "nn = NeuralNetwork(layers = (2, 3, 3, 2))\n",
    "nn.set_test_parameters(test_weights=test_weights, test_biases=test_biases)\n",
    "# nn.set_random_parameters()\n",
    "nn.biases\n",
    "# nn.weights"
   ]
  },
  {
   "cell_type": "code",
   "execution_count": 676,
   "metadata": {},
   "outputs": [
    {
     "data": {
      "text/plain": [
       "3"
      ]
     },
     "execution_count": 676,
     "metadata": {},
     "output_type": "execute_result"
    }
   ],
   "source": [
    "len(nn.layers) -1"
   ]
  },
  {
   "cell_type": "code",
   "execution_count": 677,
   "metadata": {},
   "outputs": [
    {
     "data": {
      "text/plain": [
       "[array([[2],\n",
       "        [1]]),\n",
       " array([[ 4],\n",
       "        [-3],\n",
       "        [ 4]]),\n",
       " array([[ 1.00427455],\n",
       "        [-2.99010951],\n",
       "        [-0.00561595]]),\n",
       " array([[-1.98372443],\n",
       "        [ 2.75776763]])]"
      ]
     },
     "execution_count": 677,
     "metadata": {},
     "output_type": "execute_result"
    }
   ],
   "source": [
    "a_0 = np.array([2, 1]).reshape(2, 1)\n",
    "a, z = nn.propagate_forward(a_0)\n",
    "z"
   ]
  },
  {
   "cell_type": "code",
   "execution_count": 678,
   "metadata": {},
   "outputs": [
    {
     "data": {
      "text/plain": [
       "[array([[-0.00016484],\n",
       "        [ 0.05368233],\n",
       "        [-0.00731934]]),\n",
       " array([[-0.09649386],\n",
       "        [ 0.02643157],\n",
       "        [-5.48475473]]),\n",
       " array([[ 2.62683189],\n",
       "        [-0.23126394]])]"
      ]
     },
     "execution_count": 678,
     "metadata": {},
     "output_type": "execute_result"
    }
   ],
   "source": [
    "dC_dW, dC_dB, dC_da = nn.propagate_backwards(z, z, test_y)\n",
    "dC_dB"
   ]
  },
  {
   "cell_type": "code",
   "execution_count": 679,
   "metadata": {},
   "outputs": [
    {
     "data": {
      "text/plain": [
       "array([[1.],\n",
       "       [1.],\n",
       "       [1.]])"
      ]
     },
     "execution_count": 679,
     "metadata": {},
     "output_type": "execute_result"
    }
   ],
   "source": [
    "da_dz = nn.partial_da_dz(test_sigmoid_z)\n",
    "test = da_dz * np.array([3, 2, 3,]).reshape(3, 1)\n",
    "da_dz"
   ]
  },
  {
   "cell_type": "code",
   "execution_count": 680,
   "metadata": {},
   "outputs": [],
   "source": [
    "X = [a_0, a_0]\n",
    "Y = [test_y, test_y]\n",
    "updated_w, updated_b = nn.gradient_descent(X=X, Y=Y, eta=1)"
   ]
  },
  {
   "cell_type": "markdown",
   "metadata": {},
   "source": [
    "### Neuronales Netz zur Vorhersage einer gedämpften Schwingung\n",
    "Das zuvor implementierte Neuronale Netz wird nachfolgend zur Vorhersage der gedämpften Schwingung eines Federpendels trainiert. Es wird offensichtlich, dass das Training basierend allein auf zuvor generierten Trainingsdaten nicht ausreichend ist, um das Verhalten des Pendels generell zu erfassen. "
   ]
  },
  {
   "cell_type": "code",
   "execution_count": 681,
   "metadata": {},
   "outputs": [
    {
     "name": "stdout",
     "output_type": "stream",
     "text": [
      "(500, 1) (500, 1)\n",
      "(200, 1) (200, 1)\n"
     ]
    }
   ],
   "source": [
    "def oscillator(d, w0, x):\n",
    "    \"\"\"Defines the analytical solution to the 1D underdamped harmonic oscillator problem.\n",
    "    Equations taken from: https://beltoforion.de/en/harmonic_oscillator/\"\"\"\n",
    "    assert d < w0\n",
    "    w = np.sqrt(w0**2 - d**2)\n",
    "    phi = np.arctan(-d / w)\n",
    "    A = 1 / (2 * np.cos(phi))\n",
    "    cos = np.cos(phi + w * x)\n",
    "    exp = np.exp(-d * x)\n",
    "    y = exp * 2 * A * cos\n",
    "    return y\n",
    "\n",
    "d, w0 = 2, 20\n",
    "\n",
    "# get the analytical solution over the full domain\n",
    "x = np.linspace(0, 1, 500).reshape(500, 1)\n",
    "y = oscillator(d, w0, x).reshape(500, 1)\n",
    "print(x.shape, y.shape)\n",
    "\n",
    "# slice out a small number of points from the LHS of the domain\n",
    "x_data = x[0:400:2]\n",
    "y_data = y[0:400:2]\n",
    "print(x_data.shape, y_data.shape)\n",
    "\n",
    "\n"
   ]
  },
  {
   "cell_type": "code",
   "execution_count": 682,
   "metadata": {},
   "outputs": [],
   "source": [
    "nn_new = NeuralNetwork(layers = (1, 32, 32, 1))\n",
    "nn_new.set_random_parameters()"
   ]
  },
  {
   "cell_type": "code",
   "execution_count": null,
   "metadata": {},
   "outputs": [],
   "source": [
    "# Normalize input and output data to [-1, 1]\n",
    "x_min, x_max = x_data.min(), x_data.max()\n",
    "y_min, y_max = y_data.min(), y_data.max()\n",
    "x_data_norm = 2 * (x_data - x_min) / (x_max - x_min) - 1\n",
    "y_data_norm = 2 * (y_data - y_min) / (y_max - y_min) - 1\n",
    "x_norm = 2 * (x - x_min) / (x_max - x_min) - 1\n",
    "y_norm = 2 * (y - y_min) / (y_max - y_min) - 1\n",
    "\n",
    "X = [xi.reshape(1, 1) for xi in x_data_norm]\n",
    "Y = [yi.reshape(1, 1) for yi in y_data_norm]\n",
    "X_eval = [xi.reshape(1, 1) for xi in x_norm]\n",
    "Y_eval = [yi.reshape(1, 1) for yi in y_norm]\n",
    "eta = 0.1  # Reduce learning rate for finer updates\n",
    "epochs = 50000  # Increase epochs for more training"
   ]
  },
  {
   "cell_type": "code",
   "execution_count": 684,
   "metadata": {},
   "outputs": [
    {
     "name": "stdout",
     "output_type": "stream",
     "text": [
      "Epoche 0 von 100000: MSE [[0.18568169]]\n",
      "Epoche 2000 von 100000: MSE [[0.17108422]]\n",
      "Epoche 2000 von 100000: MSE [[0.17108422]]\n",
      "Epoche 4000 von 100000: MSE [[0.17155327]]\n",
      "Epoche 4000 von 100000: MSE [[0.17155327]]\n",
      "Epoche 6000 von 100000: MSE [[0.17996739]]\n",
      "Epoche 6000 von 100000: MSE [[0.17996739]]\n",
      "Epoche 8000 von 100000: MSE [[0.18721507]]\n",
      "Epoche 8000 von 100000: MSE [[0.18721507]]\n",
      "Epoche 10000 von 100000: MSE [[0.18896107]]\n",
      "Epoche 10000 von 100000: MSE [[0.18896107]]\n",
      "Epoche 12000 von 100000: MSE [[0.17325183]]\n",
      "Epoche 12000 von 100000: MSE [[0.17325183]]\n",
      "Epoche 14000 von 100000: MSE [[0.09499481]]\n",
      "Epoche 14000 von 100000: MSE [[0.09499481]]\n",
      "Epoche 16000 von 100000: MSE [[0.08254806]]\n",
      "Epoche 16000 von 100000: MSE [[0.08254806]]\n",
      "Epoche 18000 von 100000: MSE [[0.09439635]]\n",
      "Epoche 18000 von 100000: MSE [[0.09439635]]\n",
      "Epoche 20000 von 100000: MSE [[0.10202712]]\n",
      "Epoche 20000 von 100000: MSE [[0.10202712]]\n",
      "Epoche 22000 von 100000: MSE [[0.10605576]]\n",
      "Epoche 22000 von 100000: MSE [[0.10605576]]\n",
      "Epoche 24000 von 100000: MSE [[0.10830751]]\n",
      "Epoche 24000 von 100000: MSE [[0.10830751]]\n",
      "Epoche 26000 von 100000: MSE [[0.1096798]]\n",
      "Epoche 26000 von 100000: MSE [[0.1096798]]\n",
      "Epoche 28000 von 100000: MSE [[0.11055472]]\n",
      "Epoche 28000 von 100000: MSE [[0.11055472]]\n",
      "Epoche 30000 von 100000: MSE [[0.11110045]]\n",
      "Epoche 30000 von 100000: MSE [[0.11110045]]\n",
      "Epoche 32000 von 100000: MSE [[0.11140046]]\n",
      "Epoche 32000 von 100000: MSE [[0.11140046]]\n",
      "Epoche 34000 von 100000: MSE [[0.11150343]]\n",
      "Epoche 34000 von 100000: MSE [[0.11150343]]\n",
      "Epoche 36000 von 100000: MSE [[0.11144251]]\n",
      "Epoche 36000 von 100000: MSE [[0.11144251]]\n",
      "Epoche 38000 von 100000: MSE [[0.11124312]]\n",
      "Epoche 38000 von 100000: MSE [[0.11124312]]\n",
      "Epoche 40000 von 100000: MSE [[0.11092626]]\n",
      "Epoche 40000 von 100000: MSE [[0.11092626]]\n",
      "Epoche 42000 von 100000: MSE [[0.11051012]]\n",
      "Epoche 42000 von 100000: MSE [[0.11051012]]\n",
      "Epoche 44000 von 100000: MSE [[0.11001076]]\n",
      "Epoche 44000 von 100000: MSE [[0.11001076]]\n",
      "Epoche 46000 von 100000: MSE [[0.10944257]]\n",
      "Epoche 46000 von 100000: MSE [[0.10944257]]\n",
      "Epoche 48000 von 100000: MSE [[0.10881842]]\n",
      "Epoche 48000 von 100000: MSE [[0.10881842]]\n",
      "Epoche 50000 von 100000: MSE [[0.10814981]]\n",
      "Epoche 50000 von 100000: MSE [[0.10814981]]\n",
      "Epoche 52000 von 100000: MSE [[0.10744698]]\n",
      "Epoche 52000 von 100000: MSE [[0.10744698]]\n",
      "Epoche 54000 von 100000: MSE [[0.10671899]]\n",
      "Epoche 54000 von 100000: MSE [[0.10671899]]\n",
      "Epoche 56000 von 100000: MSE [[0.10597379]]\n",
      "Epoche 56000 von 100000: MSE [[0.10597379]]\n",
      "Epoche 58000 von 100000: MSE [[0.10521832]]\n",
      "Epoche 58000 von 100000: MSE [[0.10521832]]\n",
      "Epoche 60000 von 100000: MSE [[0.10445857]]\n",
      "Epoche 60000 von 100000: MSE [[0.10445857]]\n",
      "Epoche 62000 von 100000: MSE [[0.10369971]]\n",
      "Epoche 62000 von 100000: MSE [[0.10369971]]\n",
      "Epoche 64000 von 100000: MSE [[0.10294613]]\n",
      "Epoche 64000 von 100000: MSE [[0.10294613]]\n",
      "Epoche 66000 von 100000: MSE [[0.10220154]]\n",
      "Epoche 66000 von 100000: MSE [[0.10220154]]\n",
      "Epoche 68000 von 100000: MSE [[0.10146901]]\n",
      "Epoche 68000 von 100000: MSE [[0.10146901]]\n",
      "Epoche 70000 von 100000: MSE [[0.1007511]]\n",
      "Epoche 70000 von 100000: MSE [[0.1007511]]\n",
      "Epoche 72000 von 100000: MSE [[0.10004987]]\n",
      "Epoche 72000 von 100000: MSE [[0.10004987]]\n",
      "Epoche 74000 von 100000: MSE [[0.09936697]]\n",
      "Epoche 74000 von 100000: MSE [[0.09936697]]\n",
      "Epoche 76000 von 100000: MSE [[0.09870365]]\n",
      "Epoche 76000 von 100000: MSE [[0.09870365]]\n",
      "Epoche 78000 von 100000: MSE [[0.09806087]]\n",
      "Epoche 78000 von 100000: MSE [[0.09806087]]\n",
      "Epoche 80000 von 100000: MSE [[0.0974393]]\n",
      "Epoche 80000 von 100000: MSE [[0.0974393]]\n",
      "Epoche 82000 von 100000: MSE [[0.09683936]]\n",
      "Epoche 82000 von 100000: MSE [[0.09683936]]\n",
      "Epoche 84000 von 100000: MSE [[0.09626128]]\n",
      "Epoche 84000 von 100000: MSE [[0.09626128]]\n",
      "Epoche 86000 von 100000: MSE [[0.0957051]]\n",
      "Epoche 86000 von 100000: MSE [[0.0957051]]\n",
      "Epoche 88000 von 100000: MSE [[0.09517071]]\n",
      "Epoche 88000 von 100000: MSE [[0.09517071]]\n",
      "Epoche 90000 von 100000: MSE [[0.09465788]]\n",
      "Epoche 90000 von 100000: MSE [[0.09465788]]\n",
      "Epoche 92000 von 100000: MSE [[0.09416628]]\n",
      "Epoche 92000 von 100000: MSE [[0.09416628]]\n",
      "Epoche 94000 von 100000: MSE [[0.09369547]]\n",
      "Epoche 94000 von 100000: MSE [[0.09369547]]\n",
      "Epoche 96000 von 100000: MSE [[0.09324495]]\n",
      "Epoche 96000 von 100000: MSE [[0.09324495]]\n",
      "Epoche 98000 von 100000: MSE [[0.09281418]]\n",
      "Epoche 98000 von 100000: MSE [[0.09281418]]\n"
     ]
    }
   ],
   "source": [
    "nn_new.train(X=X, Y=Y, eta=eta, epochs=epochs, test_X=X_eval, test_Y=Y_eval)"
   ]
  },
  {
   "cell_type": "code",
   "execution_count": 685,
   "metadata": {},
   "outputs": [
    {
     "data": {
      "image/png": "[encoded data removed]",
      "text/plain": [
       "<Figure size 640x480 with 1 Axes>"
      ]
     },
     "metadata": {},
     "output_type": "display_data"
    }
   ],
   "source": [
    "# Denormalize prediction for plotting\n",
    "y_prediction = []\n",
    "for x_ev in X_eval:\n",
    "    y_pred, z_pred = nn_new.propagate_forward(x_ev)\n",
    "    y_prediction.append(y_pred[-1])\n",
    "y_pred_array = np.array([y_pred.item() for y_pred in y_prediction]).reshape(-1, 1)\n",
    "y_pred_array_denorm = 0.5 * (y_pred_array + 1) * (y_max - y_min) + y_min\n",
    "\n",
    "plt.figure()\n",
    "plt.plot(x, y, color = \"grey\", label=\"Exact solution\")\n",
    "plt.plot(x, y_pred_array_denorm, color=\"tab:blue\", linewidth=4, alpha=0.8, label=\"Neural network prediction\")\n",
    "plt.scatter(x_data, y_data, color=\"tab:orange\", label=\"Training data\")\n",
    "plt.legend()\n",
    "plt.show()"
   ]
  }
 ],
 "metadata": {
  "kernelspec": {
   "display_name": ".venv",
   "language": "python",
   "name": "python3"
  },
  "language_info": {
   "codemirror_mode": {
    "name": "ipython",
    "version": 3
   },
   "file_extension": ".py",
   "mimetype": "text/x-python",
   "name": "python",
   "nbconvert_exporter": "python",
   "pygments_lexer": "ipython3",
   "version": "3.11.1"
  }
 },
 "nbformat": 4,
 "nbformat_minor": 2
}
